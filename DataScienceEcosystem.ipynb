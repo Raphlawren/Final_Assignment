{
  "nbformat": 4,
  "nbformat_minor": 0,
  "metadata": {
    "colab": {
      "provenance": []
    },
    "kernelspec": {
      "name": "python3",
      "display_name": "Python 3"
    },
    "language_info": {
      "name": "python"
    }
  },
  "cells": [
    {
      "cell_type": "markdown",
      "source": [
        "# **Data Science Tools and Ecosystem**"
      ],
      "metadata": {
        "id": "Uq552c2SzJNT"
      }
    },
    {
      "cell_type": "markdown",
      "source": [
        "\n",
        "In this notebook, Data Science Tools and Ecosystem are summarized."
      ],
      "metadata": {
        "id": "Qv8rTgKL1tVb"
      }
    },
    {
      "cell_type": "markdown",
      "source": [
        "**Objectives:**\n",
        "+ Add comments to code cells\n",
        "+ Create markdown cells\n",
        "+ Add ordered and unordered cells to markdown cells"
      ],
      "metadata": {
        "id": "cH5cAxH4euT4"
      }
    },
    {
      "cell_type": "markdown",
      "source": [
        "Some of the popular languages that Data Scientists use are:\n",
        "1. Python\n",
        "2. R language\n",
        "3. Java\n",
        "4. C/C++\n",
        "5. Julia"
      ],
      "metadata": {
        "id": "MJsRHN1B23yb"
      }
    },
    {
      "cell_type": "markdown",
      "source": [
        "Some of the commonly used libraries used by data scientists include:\n",
        "1. Numpy\n",
        "2. Pandas\n",
        "3. SciPy\n",
        "4. TensorFlow\n",
        "5. Matplotlib\n",
        "6. PyTorch"
      ],
      "metadata": {
        "id": "mY2NpG6pyFqw"
      }
    },
    {
      "cell_type": "markdown",
      "source": [
        "| Data Science Tools |\n",
        "|---|\n",
        "| RStudio |\n",
        "| Python |\n",
        "| Anaconda |\n"
      ],
      "metadata": {
        "id": "nyUUhXj7z1PA"
      }
    },
    {
      "cell_type": "markdown",
      "source": [
        "### Below are a few examples of evaluating arithmetic expressions in Python\n"
      ],
      "metadata": {
        "id": "laGbpx8N1wZO"
      }
    },
    {
      "cell_type": "code",
      "source": [
        "# This is a simple arithmetic expression to multiply then add integars\n",
        "(3*4)+5"
      ],
      "metadata": {
        "colab": {
          "base_uri": "https://localhost:8080/"
        },
        "id": "Ku9GeW5q4BH-",
        "outputId": "28b5fdab-9caf-4f3d-d465-2dcf17cef299"
      },
      "execution_count": 9,
      "outputs": [
        {
          "output_type": "execute_result",
          "data": {
            "text/plain": [
              "17"
            ]
          },
          "metadata": {},
          "execution_count": 9
        }
      ]
    },
    {
      "cell_type": "code",
      "source": [
        "# This will convert 200 minutes to hours by dividing by 60\n",
        "200/60"
      ],
      "metadata": {
        "colab": {
          "base_uri": "https://localhost:8080/"
        },
        "id": "4dyj7tLzbdWd",
        "outputId": "d3700590-3f91-45bf-f177-9ccbdaf80250"
      },
      "execution_count": 7,
      "outputs": [
        {
          "output_type": "execute_result",
          "data": {
            "text/plain": [
              "3.3333333333333335"
            ]
          },
          "metadata": {},
          "execution_count": 7
        }
      ]
    },
    {
      "cell_type": "markdown",
      "source": [
        "##Author\n",
        "Raphael Farodoye"
      ],
      "metadata": {
        "id": "b2f_fSXK-caV"
      }
    }
  ]
}